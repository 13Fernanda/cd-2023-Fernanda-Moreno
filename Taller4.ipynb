{
  "nbformat": 4,
  "nbformat_minor": 0,
  "metadata": {
    "colab": {
      "provenance": []
    },
    "kernelspec": {
      "name": "python3",
      "display_name": "Python 3"
    },
    "language_info": {
      "name": "python"
    }
  },
  "cells": [
    {
      "cell_type": "code",
      "execution_count": 11,
      "metadata": {
        "colab": {
          "base_uri": "https://localhost:8080/"
        },
        "id": "W5siJrApxZXs",
        "outputId": "2ad2c8a8-9fa1-4e4e-de4f-dd34883f7bdd"
      },
      "outputs": [
        {
          "output_type": "stream",
          "name": "stdout",
          "text": [
            "Estimación de pi:  3.1404\n",
            "Puntos dentro del círculo:  78510\n",
            "Total de puntos generados:  100000\n"
          ]
        }
      ],
      "source": [
        "import random\n",
        "\n",
        "def estimate_pi(num_points):\n",
        "    inside_circle = 0\n",
        "    \n",
        "    for i in range(num_points):\n",
        "        x = random.uniform(0, 1)\n",
        "        y = random.uniform(0, 1)\n",
        "        \n",
        "        distance = x**2 + y**2\n",
        "        \n",
        "        if distance <= 1:\n",
        "            inside_circle += 1\n",
        "            \n",
        "    pi_estimate = 4 * inside_circle / num_points\n",
        "    \n",
        "    return pi_estimate, inside_circle, num_points\n",
        "\n",
        "pi_estimate, inside_circle, num_points = estimate_pi(100000)\n",
        "\n",
        "print(\"Estimación de pi: \", pi_estimate)\n",
        "print(\"Puntos dentro del círculo: \", inside_circle)\n",
        "print(\"Total de puntos generados: \", num_points)"
      ]
    },
    {
      "cell_type": "code",
      "source": [],
      "metadata": {
        "id": "0ulBbkI50U1I"
      },
      "execution_count": null,
      "outputs": []
    }
  ]
}